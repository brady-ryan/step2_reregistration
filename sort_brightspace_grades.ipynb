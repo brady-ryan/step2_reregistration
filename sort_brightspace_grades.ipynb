{
 "cells": [
  {
   "cell_type": "markdown",
   "id": "b4fd0a8a",
   "metadata": {},
   "source": [
    "# Read Brightspace Entries & Sort the Passing Grades\n",
    "\n",
    "In this script, we use $\\text{numpy}$ and $\\text{pandas}$ through $\\text{Google Colab}$ to read in a .csv file containing the Step 2 Brightspace quiz grades, sort the passing ones, and save them into a new .csv file for easy importing to a spreadsheet."
   ]
  },
  {
   "cell_type": "code",
   "execution_count": null,
   "id": "fbb5fbce",
   "metadata": {},
   "outputs": [],
   "source": [
    "import numpy as np\n",
    "from google.colab import drive\n",
    "drive.mount('/content/drive')"
   ]
  },
  {
   "cell_type": "code",
   "execution_count": null,
   "id": "7dc73a51",
   "metadata": {},
   "outputs": [],
   "source": [
    "import pandas as pd\n",
    "import numpy as np\n",
    "\n",
    "\n",
    "csv_path = 'path/to/csv' # Replace with the actual folder in which your csv file is in\n",
    "\n",
    "# Load the CSV file\n",
    "df = pd.read_csv(f'/content/drive/MyDrive/{csv_path}')\n",
    "\n",
    "# Strip '#' from IDs\n",
    "df['OrgDefinedId'] = df['OrgDefinedId'].astype(str).str.lstrip('#')\n",
    "\n",
    "# Get the column with the grades\n",
    "grade_col = '25-26 Re-Registration Quiz(1) Points Grade <Numeric MaxPoints:33>'\n",
    "\n",
    "# Drop rows where the grade is missing\n",
    "df = df.dropna(subset=[grade_col])\n",
    "\n",
    "# Filter students who scored at least 80\n",
    "passed = df[df[grade_col] >= 26.5]\n",
    "\n",
    "# Create a 1D list of passed IDs\n",
    "passers = passed['OrgDefinedId'].values\n",
    "\n",
    "# Save each ID on a new line\n",
    "np.savetxt(f'/content/drive/MyDrive/{csv_path}/passers.txt', passers, fmt='%s')"
   ]
  }
 ],
 "metadata": {
  "kernelspec": {
   "display_name": "doubles",
   "language": "python",
   "name": "python3"
  },
  "language_info": {
   "name": "python",
   "version": "3.13.2"
  }
 },
 "nbformat": 4,
 "nbformat_minor": 5
}
